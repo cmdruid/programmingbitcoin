{
 "cells": [
  {
   "cell_type": "code",
   "execution_count": 1,
   "metadata": {},
   "outputs": [],
   "source": [
    "############## PLEASE RUN THIS CELL FIRST! ###################\n",
    "\n",
    "# import everything and define a test runner function\n",
    "from importlib import reload\n",
    "from helper import run\n",
    "import ecc\n",
    "import helper"
   ]
  },
  {
   "cell_type": "markdown",
   "metadata": {},
   "source": [
    "### Exercise 1\n",
    "\n",
    "Find the uncompressed SEC format for the Public Key where the Private Key secrets are:\n",
    "\n",
    "* 5000\n",
    "* \\\\(2018^{5}\\\\)\n",
    "* 0xdeadbeef12345"
   ]
  },
  {
   "cell_type": "code",
   "execution_count": 17,
   "metadata": {},
   "outputs": [
    {
     "name": "stdout",
     "output_type": "stream",
     "text": [
      "04ffe558e388852f0120e46af2d1b370f85854a8eb0841811ece0e3e03d282d57c315dc72890a4f10a1481c031b03b351b0dc79901ca18a00cf009dbdb157a1d10\n",
      "04027f3da1918455e03c46f659266a1bb5204e959db7364d2f473bdf8f0a13cc9dff87647fd023c13b4a4994f17691895806e1b40b57f4fd22581a4f46851f3b06\n",
      "04d90cd625ee87dd38656dd95cf79f65f60f7273b67d3096e68bd81e4f5342691f842efa762fd59961d0e99803c61edba8b3e3f7dc3a341836f97733aebf987121\n"
     ]
    }
   ],
   "source": [
    "# Exercise 1\n",
    "\n",
    "from ecc import PrivateKey\n",
    "\n",
    "problems = [ 5000, 2018**5, 0xdeadbeef12345 ]\n",
    "\n",
    "for secret in problems:\n",
    "    P = PrivateKey(secret).point\n",
    "    usec = b'\\x04' + P.x.num.to_bytes(32, 'big') + P.y.num.to_bytes(32, 'big')\n",
    "    print(usec.hex())\n"
   ]
  },
  {
   "cell_type": "markdown",
   "metadata": {},
   "source": [
    "### Exercise 2\n",
    "\n",
    "Find the Compressed SEC format for the Public Key where the Private Key secrets are:\n",
    "\n",
    "* 5001\n",
    "* \\\\(2019^{5}\\\\)\n",
    "* 0xdeadbeef54321"
   ]
  },
  {
   "cell_type": "code",
   "execution_count": 41,
   "metadata": {},
   "outputs": [
    {
     "name": "stdout",
     "output_type": "stream",
     "text": [
      "Before compression: S256Point(57a4f368868a8a6d572991e484e664810ff14c05c0fa023275251151fe0e53d1, 0d6cc87c5bc29b83368e17869e964f2f53d52ea3aa3e5a9efa1fa578123a0c6d)\n",
      "\n",
      "Compressed: 0357a4f368868a8a6d572991e484e664810ff14c05c0fa023275251151fe0e53d1\n",
      "\n",
      "After compression: S256Point(57a4f368868a8a6d572991e484e664810ff14c05c0fa023275251151fe0e53d1, 0d6cc87c5bc29b83368e17869e964f2f53d52ea3aa3e5a9efa1fa578123a0c6d)\n",
      "\n",
      "Before compression: S256Point(933ec2d2b111b92737ec12f1c5d20f3233a0ad21cd8b36d0bca7a0cfa5cb8701, 96cbbfdd572f75ace44d0aa59fbab6326cb9f909385dcd066ea27affef5a488c)\n",
      "\n",
      "Compressed: 02933ec2d2b111b92737ec12f1c5d20f3233a0ad21cd8b36d0bca7a0cfa5cb8701\n",
      "\n",
      "After compression: S256Point(933ec2d2b111b92737ec12f1c5d20f3233a0ad21cd8b36d0bca7a0cfa5cb8701, 96cbbfdd572f75ace44d0aa59fbab6326cb9f909385dcd066ea27affef5a488c)\n",
      "\n",
      "Before compression: S256Point(96be5b1292f6c856b3c5654e886fc13511462059089cdf9c479623bfcbe77690, 32555d1b027c25c2828ba96a176d78419cd1236f71558f6187aec09611325eb6)\n",
      "\n",
      "Compressed: 0296be5b1292f6c856b3c5654e886fc13511462059089cdf9c479623bfcbe77690\n",
      "\n",
      "After compression: S256Point(96be5b1292f6c856b3c5654e886fc13511462059089cdf9c479623bfcbe77690, 32555d1b027c25c2828ba96a176d78419cd1236f71558f6187aec09611325eb6)\n",
      "\n"
     ]
    }
   ],
   "source": [
    "# Exercise 2\n",
    "\n",
    "from ecc import PrivateKey, S256Field, S256Point\n",
    "\n",
    "B = 7\n",
    "Prime = 2**256 - 2**32 - 977\n",
    "\n",
    "problems = [ 5001, 2019**5, 0xdeadbeef54321 ]\n",
    "\n",
    "def parse(bin):\n",
    "    is_even = bin[0] == 2\n",
    "    x = S256Field(int.from_bytes(bin[1:], 'big'))\n",
    "    alpha = x**3 + S256Field(7)\n",
    "    beta = alpha ** ((Prime + 1) // 4)\n",
    "    if beta.num % 2 == 0:\n",
    "        even_beta = beta\n",
    "        odd_beta  = S256Field(Prime - beta.num)\n",
    "    else:\n",
    "        even_beta = S256Field(Prime - beta.num)\n",
    "        odd_beta  = beta\n",
    "    if is_even:\n",
    "        return S256Point(x, even_beta)\n",
    "    else:\n",
    "        return S256Point(x, odd_beta)\n",
    "\n",
    "for secret in problems:\n",
    "    P = PrivateKey(secret).point\n",
    "    print(\"Before compression: {}\\n\".format(P))\n",
    "    if (P.y.num % 2 == 0):\n",
    "        sec = b'\\x02' + P.x.num.to_bytes(32, 'big')\n",
    "    else:\n",
    "        sec = b'\\x03' + P.x.num.to_bytes(32, 'big')\n",
    "    print(\"Compressed: {}\\n\".format(sec.hex()))\n",
    "    \n",
    "    print(\"After compression: {}\\n\".format(parse(sec)))"
   ]
  },
  {
   "cell_type": "markdown",
   "metadata": {},
   "source": [
    "### Exercise 3\n",
    "\n",
    "Find the DER format for a signature whose `r` and `s` values are:\n",
    "\n",
    "* r =\n",
    "\n",
    "`0x37206a0610995c58074999cb9767b87af4c4978db68c06e8e6e81d282047a7c6`\n",
    "\n",
    "* s =\n",
    "\n",
    "`0x8ca63759c1157ebeaec0d03cecca119fc9a75bf8e6d0fa65c841c8e2738cdaec`"
   ]
  },
  {
   "cell_type": "code",
   "execution_count": 66,
   "metadata": {},
   "outputs": [
    {
     "name": "stdout",
     "output_type": "stream",
     "text": [
      "Length of encoding: 32\n",
      "Length of encoding: 33\n",
      "3045022037206a0610995c58074999cb9767b87af4c4978db68c06e8e6e81d282047a7c60221008ca63759c1157ebeaec0d03cecca119fc9a75bf8e6d0fa65c841c8e2738cdaec\n"
     ]
    }
   ],
   "source": [
    "# Exercise 3\n",
    "\n",
    "from ecc import Signature\n",
    "\n",
    "r = 0x37206a0610995c58074999cb9767b87af4c4978db68c06e8e6e81d282047a7c6\n",
    "s = 0x8ca63759c1157ebeaec0d03cecca119fc9a75bf8e6d0fa65c841c8e2738cdaec\n",
    "\n",
    "def encode(num):\n",
    "    nbin = num.to_bytes(32, 'big').lstrip(b'\\x00')\n",
    "    ## If nbin starts with a high-bit, add a '00' buffer.\n",
    "    if nbin[0] & 0x80:\n",
    "        nbin = b'\\x00' + nbin\n",
    "    return bytes([2, len(nbin)]) + nbin\n",
    "\n",
    "formatted = encode(r) + encode(s)\n",
    "full_der = bytes([0x30, len(formatted)]) + formatted\n",
    "\n",
    "print(full_der.hex())\n",
    "\n",
    "\n"
   ]
  },
  {
   "cell_type": "markdown",
   "metadata": {},
   "source": [
    "### Exercise 4\n",
    "\n",
    "Convert the following hex to binary and then to Base58:\n",
    "\n",
    "* `7c076ff316692a3d7eb3c3bb0f8b1488cf72e1afcd929e29307032997a838a3d`\n",
    "* `eff69ef2b1bd93a66ed5219add4fb51e11a840f404876325a1e8ffe0529a2c`\n",
    "* `c7207fee197d27c618aea621406f6bf5ef6fca38681d82b2f06fddbdce6feab6`"
   ]
  },
  {
   "cell_type": "code",
   "execution_count": 75,
   "metadata": {},
   "outputs": [
    {
     "name": "stdout",
     "output_type": "stream",
     "text": [
      "9MA8fRQrT4u8Zj8ZRd6MAiiyaxb2Y1CMpvVkHQu5hVM6\n",
      "14fE3H2E6XMp4SsxtwinF7w9a34ooUrwWe4WsW1458Pd\n",
      "EQJsjkd6JaGwxrjEhfeqPenqHwrBmPQZjJGNSCHBkcF7\n"
     ]
    }
   ],
   "source": [
    "# Exercise 4\n",
    "\n",
    "## from helper import encode_base58\n",
    "\n",
    "def encode_base58(s):\n",
    "    ALPHABET = '123456789ABCDEFGHJKLMNPQRSTUVWXYZabcdefghijkmnopqrstuvwxyz'\n",
    "    count = 0\n",
    "    for c in s:\n",
    "        if c == 0:\n",
    "            count += 1\n",
    "        else:\n",
    "            break\n",
    "    num = int.from_bytes(s, 'big')\n",
    "    prefix = '1' * count\n",
    "    result = ''\n",
    "    while num > 0:\n",
    "        num, mod = divmod(num, 58)\n",
    "        result = ALPHABET[mod] + result\n",
    "    return prefix + result\n",
    "\n",
    "problems = [\n",
    "    0x7c076ff316692a3d7eb3c3bb0f8b1488cf72e1afcd929e29307032997a838a3d,\n",
    "    0xeff69ef2b1bd93a66ed5219add4fb51e11a840f404876325a1e8ffe0529a2c,\n",
    "    0xc7207fee197d27c618aea621406f6bf5ef6fca38681d82b2f06fddbdce6feab6\n",
    "]\n",
    "\n",
    "for prob in problems:\n",
    "    nbin = prob.to_bytes(32, 'big')\n",
    "    print(encode_base58(nbin))"
   ]
  },
  {
   "cell_type": "markdown",
   "metadata": {},
   "source": [
    "### Exercise 5\n",
    "\n",
    "Find the address corresponding to Public Keys whose Private Key secrets are:\n",
    "\n",
    "* 5002 (use uncompressed SEC, on testnet)\n",
    "* \\\\(2020^{5}\\\\) (use compressed SEC, on testnet)\n",
    "* 0x12345deadbeef (use compressed SEC on mainnet)"
   ]
  },
  {
   "cell_type": "code",
   "execution_count": 125,
   "metadata": {},
   "outputs": [
    {
     "name": "stdout",
     "output_type": "stream",
     "text": [
      "mmTPbXQFxboEtNRkwfh6K51jvdtHKqy6Qh\n",
      "mopVkxp8UhXqRYbCYJsbeE1h1fiF19dM2S\n",
      "1F1Pn2y6pDb68E5nYJJeba4TLg2U9QHEgK\n"
     ]
    }
   ],
   "source": [
    "# Exercise 5\n",
    "import hashlib\n",
    "\n",
    "from ecc       import PrivateKey\n",
    "from helper    import encode_base58\n",
    "from ripemd160 import ripemd160\n",
    "\n",
    "def hash256(s):\n",
    "    return hashlib.sha256(s).digest()\n",
    "\n",
    "def hash160(s):\n",
    "    return ripemd160(s)\n",
    "\n",
    "problems = [ \n",
    "    [ 5002, False, 'testnet' ],\n",
    "    [ 2020**5, True, 'testnet'],\n",
    "    [ 0x12345deadbeef, True, 'mainnet' ]\n",
    "]\n",
    "\n",
    "for prob in problems:\n",
    "    key, compressed, network = prob\n",
    "    \n",
    "    ## Generate keypair.\n",
    "    e = PrivateKey(key)\n",
    "    \n",
    "    ## Get prefix code:\n",
    "    if network == 'testnet':\n",
    "        prefix = bytes([0x6f])\n",
    "    else:\n",
    "        prefix = bytes([0x00])\n",
    "    \n",
    "    ## Serialize the pubkey (point) using SEC encoding,\n",
    "    ## then sha256 + ripemd160 hash the result.\n",
    "    encoded = hash160(hash256(e.point.sec(compressed)))\n",
    "    \n",
    "    ## Add the prefix to the encoded bytes.\n",
    "    binary  = prefix + encoded\n",
    "    \n",
    "    ## Hash the combined binary and get the first 4 bytes as a checksum.\n",
    "    checksum = hash256(binary)[0:4]\n",
    "    \n",
    "    ## Combine binary and checksum, then encode in base58.\n",
    "    address = encode_base58(binary + checksum)\n",
    "    \n",
    "    print(address)"
   ]
  },
  {
   "cell_type": "markdown",
   "metadata": {},
   "source": [
    "### Exercise 6\n",
    "\n",
    "Find the WIF for Private Key whose secrets are:\n",
    "\n",
    "* 5003 (compressed, testnet)\n",
    "* \\\\(2021^{5}\\\\) (uncompressed, testnet)\n",
    "* 0x54321deadbeef (compressed, mainnet)"
   ]
  },
  {
   "cell_type": "code",
   "execution_count": 126,
   "metadata": {},
   "outputs": [
    {
     "name": "stdout",
     "output_type": "stream",
     "text": [
      "cMahea7zqjxrtgAbB7LSGbcQUr1uX1ojuat9jZodMN8rFTs6w9Ag\n",
      "91avARGdfge8E4tZfYLoxeJ5sGBdNJQH4kvjpWAxgzczjZ74iEV\n",
      "KwDiBf89QgGbjEhKnhXJuH7LrciVrZi3qYjgiuQJv1h8Ytpv4H7U\n"
     ]
    }
   ],
   "source": [
    "# Exercise 6\n",
    "\n",
    "from ecc import PrivateKey\n",
    "\n",
    "# 5003\n",
    "# 2021**5\n",
    "# 0x54321deadbeef\n",
    "\n",
    "problems = [ \n",
    "    [ 5003, True, 'testnet' ],\n",
    "    [ 2021**5, False, 'testnet'],\n",
    "    [ 0x54321deadbeef, True, 'mainnet' ]\n",
    "]\n",
    "\n",
    "for prob in problems:\n",
    "    key, compressed, network = prob\n",
    "    \n",
    "    # Create the binary string from the key.\n",
    "    secret_bytes = key.to_bytes(32, 'big')\n",
    "    \n",
    "    ## Get prefix code:\n",
    "    if network == 'testnet':\n",
    "        prefix = b'\\xef'\n",
    "    else:\n",
    "        prefix = b'\\x80'\n",
    "        \n",
    "    ## Add suffix code if compressed.\n",
    "    if compressed:\n",
    "        suffix = b'\\x01'\n",
    "    else:\n",
    "        suffix = b''\n",
    "    \n",
    "    ## Concatenate all the bytes together.\n",
    "    all_bytes = prefix + secret_bytes + suffix\n",
    "    \n",
    "    ## Hash the combined output and get the first 4 bytes as a checksum.\n",
    "    checksum = hash256(all_bytes)[0:4]\n",
    "    \n",
    "    ## Encode the result in base58.\n",
    "    wif_format = encode_base58(all_bytes + checksum)\n",
    "    \n",
    "    print(wif_format)\n",
    "    \n",
    "    \n",
    "    "
   ]
  },
  {
   "cell_type": "markdown",
   "metadata": {},
   "source": [
    "### Exercise 7\n",
    "\n",
    "Write a function `little_endian_to_int` which takes Python bytes, interprets those bytes in Little-Endian and returns the number.\n",
    "\n",
    "#### Make [this test](/edit/code-ch04/helper.py) pass: `helper.py:HelperTest:test_little_endian_to_int`"
   ]
  },
  {
   "cell_type": "code",
   "execution_count": 127,
   "metadata": {},
   "outputs": [
    {
     "name": "stderr",
     "output_type": "stream",
     "text": [
      ".\n",
      "----------------------------------------------------------------------\n",
      "Ran 1 test in 0.000s\n",
      "\n",
      "OK\n"
     ]
    }
   ],
   "source": [
    "# Exercise 7\n",
    "\n",
    "reload(helper)\n",
    "run(helper.HelperTest(\"test_little_endian_to_int\"))"
   ]
  },
  {
   "cell_type": "markdown",
   "metadata": {},
   "source": [
    "### Exercise 8\n",
    "\n",
    "Write a function `int_to_little_endian` which does the reverse of the last exercise.\n",
    "\n",
    "#### Make [this test](/edit/code-ch04/helper.py) pass: `helper.py:HelperTest:test_int_to_little_endian`"
   ]
  },
  {
   "cell_type": "code",
   "execution_count": 128,
   "metadata": {},
   "outputs": [
    {
     "name": "stderr",
     "output_type": "stream",
     "text": [
      ".\n",
      "----------------------------------------------------------------------\n",
      "Ran 1 test in 0.000s\n",
      "\n",
      "OK\n"
     ]
    }
   ],
   "source": [
    "# Exercise 8\n",
    "\n",
    "reload(helper)\n",
    "run(helper.HelperTest(\"test_int_to_little_endian\"))"
   ]
  },
  {
   "cell_type": "markdown",
   "metadata": {},
   "source": [
    "### Exercise 9\n",
    "\n",
    "Create a testnet address for yourself using a long secret that only you know. This is important as there are bots on testnet trying to steal testnet coins. Make sure you write this secret down somewhere! You will be using the secret later to sign Transactions."
   ]
  },
  {
   "cell_type": "code",
   "execution_count": 132,
   "metadata": {},
   "outputs": [
    {
     "name": "stdout",
     "output_type": "stream",
     "text": [
      "mtS1mg4oZUJnBWpcSS1vszFoDMjuhbnbnE\n"
     ]
    }
   ],
   "source": [
    "# Exercise 9\n",
    "## NOTE: Fixed a bug with ripemd160. See ecc.py.\n",
    "\n",
    "reload(ecc)\n",
    "\n",
    "from ecc import PrivateKey\n",
    "from helper import hash256, little_endian_to_int\n",
    "\n",
    "# select a passphrase here, add your email address into the passphrase for security\n",
    "\n",
    "passphrase = b'your@email.address some secret only you know'\n",
    "secret = little_endian_to_int(hash256(passphrase))\n",
    "\n",
    "e = PrivateKey(secret)\n",
    "\n",
    "print(e.point.address(testnet=True))\n",
    "\n",
    "# create a private key using your secret\n",
    "# print an address from the public point of the private key with testnet=True"
   ]
  },
  {
   "cell_type": "code",
   "execution_count": null,
   "metadata": {},
   "outputs": [],
   "source": []
  }
 ],
 "metadata": {
  "kernelspec": {
   "display_name": "Python 3 (ipykernel)",
   "language": "python",
   "name": "python3"
  },
  "language_info": {
   "codemirror_mode": {
    "name": "ipython",
    "version": 3
   },
   "file_extension": ".py",
   "mimetype": "text/x-python",
   "name": "python",
   "nbconvert_exporter": "python",
   "pygments_lexer": "ipython3",
   "version": "3.10.4"
  }
 },
 "nbformat": 4,
 "nbformat_minor": 2
}
